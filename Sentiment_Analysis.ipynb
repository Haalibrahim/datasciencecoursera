{
  "nbformat": 4,
  "nbformat_minor": 0,
  "metadata": {
    "colab": {
      "name": "Sentiment Analysis.ipynb",
      "provenance": [],
      "authorship_tag": "ABX9TyPEVRYdmvM3MUCdmrXwA97q",
      "include_colab_link": true
    },
    "kernelspec": {
      "name": "python3",
      "display_name": "Python 3"
    }
  },
  "cells": [
    {
      "cell_type": "markdown",
      "metadata": {
        "id": "view-in-github",
        "colab_type": "text"
      },
      "source": [
        "<a href=\"https://colab.research.google.com/github/Haalibrahim/datasciencecoursera/blob/master/Sentiment_Analysis.ipynb\" target=\"_parent\"><img src=\"https://colab.research.google.com/assets/colab-badge.svg\" alt=\"Open In Colab\"/></a>"
      ]
    },
    {
      "cell_type": "code",
      "metadata": {
        "id": "00LH9f6-z77l",
        "colab_type": "code",
        "colab": {}
      },
      "source": [
        "#Get the sentiment of text from a websit"
      ],
      "execution_count": 0,
      "outputs": []
    },
    {
      "cell_type": "code",
      "metadata": {
        "id": "iCeQDynk138J",
        "colab_type": "code",
        "colab": {}
      },
      "source": [
        "pip install newspaper3k"
      ],
      "execution_count": 0,
      "outputs": []
    },
    {
      "cell_type": "code",
      "metadata": {
        "id": "kqLLCJUC14HN",
        "colab_type": "code",
        "colab": {}
      },
      "source": [
        "#import the libraries:\n",
        "from textblob import TextBlob\n",
        "import nltk \n",
        "from newspaper import Article"
      ],
      "execution_count": 0,
      "outputs": []
    },
    {
      "cell_type": "code",
      "metadata": {
        "id": "jxfq2fVb14L1",
        "colab_type": "code",
        "colab": {}
      },
      "source": [
        "#Get the Article:\n",
        "url = 'https://www.washingtonpost.com/opinions/from-singapore-lessons-in-harmony-and-diversity/2015/06/25/86fcbfa2-1b72-11e5-93b7-5eddc056ad8a_story.html'\n",
        "article=Article(url)"
      ],
      "execution_count": 0,
      "outputs": []
    },
    {
      "cell_type": "code",
      "metadata": {
        "id": "htIPMgPd14QE",
        "colab_type": "code",
        "outputId": "b4a56965-4493-4b2e-9204-7228abf88bfd",
        "colab": {
          "base_uri": "https://localhost:8080/",
          "height": 52
        }
      },
      "source": [
        "#Do some NLP\n",
        "article.download()\n",
        "article.parse()\n",
        "nltk.download('punkt')\n",
        "article.nlp()"
      ],
      "execution_count": 0,
      "outputs": [
        {
          "output_type": "stream",
          "text": [
            "[nltk_data] Downloading package punkt to /root/nltk_data...\n",
            "[nltk_data]   Package punkt is already up-to-date!\n"
          ],
          "name": "stdout"
        }
      ]
    },
    {
      "cell_type": "code",
      "metadata": {
        "id": "U-QUpCzT38Db",
        "colab_type": "code",
        "outputId": "b7a3195f-dd0a-4bed-df98-53fa431f6da1",
        "colab": {
          "base_uri": "https://localhost:8080/",
          "height": 104
        }
      },
      "source": [
        "#Summary of the article:\n",
        "text=article.summary\n",
        "print(text)"
      ],
      "execution_count": 0,
      "outputs": [
        {
          "output_type": "stream",
          "text": [
            "In thinking about the United States’ enduring racial divide, I found myself intrigued by lessons from an unlikely source: Singapore.\n",
            "I imagined that he would talk about economics, since the city-state’s per capita GDP now outstrips that of the United States, Japan and Hong Kong.\n",
            "Those efforts were largely abandoned by the 1980s and, since then, the data show a United States that remains strikingly segregated.\n",
            "In St. Louis, that share of the white population is 54.4 percent.\n",
            "A UCLA study last year described what a classroom looks like for the typical white student in the United States.\n"
          ],
          "name": "stdout"
        }
      ]
    },
    {
      "cell_type": "code",
      "metadata": {
        "id": "Og20_5U05H8R",
        "colab_type": "code",
        "outputId": "2aa8bcde-40e9-42e8-c380-2d34feb5ca32",
        "colab": {
          "base_uri": "https://localhost:8080/",
          "height": 35
        }
      },
      "source": [
        "#create a textblob object\n",
        "obj = TextBlob(text)\n",
        "\n",
        "#value will be between -1 and 1 \n",
        "sentiment = obj.sentiment.polarity\n",
        "\n",
        "print(sentiment)"
      ],
      "execution_count": 0,
      "outputs": [
        {
          "output_type": "stream",
          "text": [
            "0.006802721088435377\n"
          ],
          "name": "stdout"
        }
      ]
    },
    {
      "cell_type": "code",
      "metadata": {
        "id": "XJBSbpEV5h2j",
        "colab_type": "code",
        "outputId": "4c2229cf-80cd-4a6e-83e6-8fde315c3658",
        "colab": {
          "base_uri": "https://localhost:8080/",
          "height": 35
        }
      },
      "source": [
        "#what does this mean? \n",
        "if sentiment == 0:\n",
        "  print('Text is Neutral')\n",
        "elif sentiment > 0:\n",
        "    print('Text is positive')  \n",
        "else:\n",
        "      print('Text is negative')"
      ],
      "execution_count": 0,
      "outputs": [
        {
          "output_type": "stream",
          "text": [
            "Text is positive\n"
          ],
          "name": "stdout"
        }
      ]
    },
    {
      "cell_type": "code",
      "metadata": {
        "id": "4NvyBj2Z5IIR",
        "colab_type": "code",
        "colab": {}
      },
      "source": [
        ""
      ],
      "execution_count": 0,
      "outputs": []
    }
  ]
}